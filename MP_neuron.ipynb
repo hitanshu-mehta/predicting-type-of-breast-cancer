{
 "cells": [
  {
   "cell_type": "markdown",
   "metadata": {},
   "source": [
    "# Predicting type of breast cancer using MP neuron model:"
   ]
  },
  {
   "cell_type": "markdown",
   "metadata": {},
   "source": [
    "## 1. Load data:"
   ]
  },
  {
   "cell_type": "code",
   "execution_count": 1,
   "metadata": {},
   "outputs": [],
   "source": [
    "import sklearn.datasets\n",
    "import numpy as np\n",
    "import pandas as pd\n",
    "import matplotlib.pyplot as plt"
   ]
  },
  {
   "cell_type": "code",
   "execution_count": 2,
   "metadata": {},
   "outputs": [],
   "source": [
    "breast_cancer = sklearn.datasets.load_breast_cancer()\n",
    "data = pd.DataFrame(breast_cancer.data,columns = breast_cancer.feature_names)\n",
    "data['class'] = breast_cancer.target"
   ]
  },
  {
   "cell_type": "code",
   "execution_count": 3,
   "metadata": {},
   "outputs": [
    {
     "name": "stdout",
     "output_type": "stream",
     "text": [
      "   mean radius  mean texture  mean perimeter  mean area  mean smoothness  \\\n",
      "0        17.99         10.38          122.80     1001.0          0.11840   \n",
      "1        20.57         17.77          132.90     1326.0          0.08474   \n",
      "2        19.69         21.25          130.00     1203.0          0.10960   \n",
      "3        11.42         20.38           77.58      386.1          0.14250   \n",
      "4        20.29         14.34          135.10     1297.0          0.10030   \n",
      "\n",
      "   mean compactness  mean concavity  mean concave points  mean symmetry  \\\n",
      "0           0.27760          0.3001              0.14710         0.2419   \n",
      "1           0.07864          0.0869              0.07017         0.1812   \n",
      "2           0.15990          0.1974              0.12790         0.2069   \n",
      "3           0.28390          0.2414              0.10520         0.2597   \n",
      "4           0.13280          0.1980              0.10430         0.1809   \n",
      "\n",
      "   mean fractal dimension  ...  worst texture  worst perimeter  worst area  \\\n",
      "0                 0.07871  ...          17.33           184.60      2019.0   \n",
      "1                 0.05667  ...          23.41           158.80      1956.0   \n",
      "2                 0.05999  ...          25.53           152.50      1709.0   \n",
      "3                 0.09744  ...          26.50            98.87       567.7   \n",
      "4                 0.05883  ...          16.67           152.20      1575.0   \n",
      "\n",
      "   worst smoothness  worst compactness  worst concavity  worst concave points  \\\n",
      "0            0.1622             0.6656           0.7119                0.2654   \n",
      "1            0.1238             0.1866           0.2416                0.1860   \n",
      "2            0.1444             0.4245           0.4504                0.2430   \n",
      "3            0.2098             0.8663           0.6869                0.2575   \n",
      "4            0.1374             0.2050           0.4000                0.1625   \n",
      "\n",
      "   worst symmetry  worst fractal dimension  class  \n",
      "0          0.4601                  0.11890      0  \n",
      "1          0.2750                  0.08902      0  \n",
      "2          0.3613                  0.08758      0  \n",
      "3          0.6638                  0.17300      0  \n",
      "4          0.2364                  0.07678      0  \n",
      "\n",
      "[5 rows x 31 columns]\n"
     ]
    }
   ],
   "source": [
    "print(data.head())"
   ]
  },
  {
   "cell_type": "code",
   "execution_count": 4,
   "metadata": {},
   "outputs": [
    {
     "name": "stdout",
     "output_type": "stream",
     "text": [
      "['malignant' 'benign']\n",
      "1    357\n",
      "0    212\n",
      "Name: class, dtype: int64\n"
     ]
    }
   ],
   "source": [
    "print(breast_cancer.target_names)\n",
    "print(data['class'].value_counts())"
   ]
  },
  {
   "cell_type": "code",
   "execution_count": 5,
   "metadata": {},
   "outputs": [
    {
     "data": {
      "text/html": [
       "<div>\n",
       "<style scoped>\n",
       "    .dataframe tbody tr th:only-of-type {\n",
       "        vertical-align: middle;\n",
       "    }\n",
       "\n",
       "    .dataframe tbody tr th {\n",
       "        vertical-align: top;\n",
       "    }\n",
       "\n",
       "    .dataframe thead tr th {\n",
       "        text-align: left;\n",
       "    }\n",
       "\n",
       "    .dataframe thead tr:last-of-type th {\n",
       "        text-align: right;\n",
       "    }\n",
       "</style>\n",
       "<table border=\"1\" class=\"dataframe\">\n",
       "  <thead>\n",
       "    <tr>\n",
       "      <th></th>\n",
       "      <th colspan=\"8\" halign=\"left\">mean radius</th>\n",
       "      <th colspan=\"2\" halign=\"left\">mean texture</th>\n",
       "      <th>...</th>\n",
       "      <th colspan=\"2\" halign=\"left\">worst symmetry</th>\n",
       "      <th colspan=\"8\" halign=\"left\">worst fractal dimension</th>\n",
       "    </tr>\n",
       "    <tr>\n",
       "      <th></th>\n",
       "      <th>count</th>\n",
       "      <th>mean</th>\n",
       "      <th>std</th>\n",
       "      <th>min</th>\n",
       "      <th>25%</th>\n",
       "      <th>50%</th>\n",
       "      <th>75%</th>\n",
       "      <th>max</th>\n",
       "      <th>count</th>\n",
       "      <th>mean</th>\n",
       "      <th>...</th>\n",
       "      <th>75%</th>\n",
       "      <th>max</th>\n",
       "      <th>count</th>\n",
       "      <th>mean</th>\n",
       "      <th>std</th>\n",
       "      <th>min</th>\n",
       "      <th>25%</th>\n",
       "      <th>50%</th>\n",
       "      <th>75%</th>\n",
       "      <th>max</th>\n",
       "    </tr>\n",
       "    <tr>\n",
       "      <th>class</th>\n",
       "      <th></th>\n",
       "      <th></th>\n",
       "      <th></th>\n",
       "      <th></th>\n",
       "      <th></th>\n",
       "      <th></th>\n",
       "      <th></th>\n",
       "      <th></th>\n",
       "      <th></th>\n",
       "      <th></th>\n",
       "      <th></th>\n",
       "      <th></th>\n",
       "      <th></th>\n",
       "      <th></th>\n",
       "      <th></th>\n",
       "      <th></th>\n",
       "      <th></th>\n",
       "      <th></th>\n",
       "      <th></th>\n",
       "      <th></th>\n",
       "      <th></th>\n",
       "    </tr>\n",
       "  </thead>\n",
       "  <tbody>\n",
       "    <tr>\n",
       "      <td>0</td>\n",
       "      <td>212.0</td>\n",
       "      <td>17.462830</td>\n",
       "      <td>3.203971</td>\n",
       "      <td>10.950</td>\n",
       "      <td>15.075</td>\n",
       "      <td>17.325</td>\n",
       "      <td>19.59</td>\n",
       "      <td>28.11</td>\n",
       "      <td>212.0</td>\n",
       "      <td>21.604906</td>\n",
       "      <td>...</td>\n",
       "      <td>0.359225</td>\n",
       "      <td>0.6638</td>\n",
       "      <td>212.0</td>\n",
       "      <td>0.091530</td>\n",
       "      <td>0.021553</td>\n",
       "      <td>0.05504</td>\n",
       "      <td>0.076302</td>\n",
       "      <td>0.08760</td>\n",
       "      <td>0.102625</td>\n",
       "      <td>0.2075</td>\n",
       "    </tr>\n",
       "    <tr>\n",
       "      <td>1</td>\n",
       "      <td>357.0</td>\n",
       "      <td>12.146524</td>\n",
       "      <td>1.780512</td>\n",
       "      <td>6.981</td>\n",
       "      <td>11.080</td>\n",
       "      <td>12.200</td>\n",
       "      <td>13.37</td>\n",
       "      <td>17.85</td>\n",
       "      <td>357.0</td>\n",
       "      <td>17.914762</td>\n",
       "      <td>...</td>\n",
       "      <td>0.298300</td>\n",
       "      <td>0.4228</td>\n",
       "      <td>357.0</td>\n",
       "      <td>0.079442</td>\n",
       "      <td>0.013804</td>\n",
       "      <td>0.05521</td>\n",
       "      <td>0.070090</td>\n",
       "      <td>0.07712</td>\n",
       "      <td>0.085410</td>\n",
       "      <td>0.1486</td>\n",
       "    </tr>\n",
       "  </tbody>\n",
       "</table>\n",
       "<p>2 rows × 240 columns</p>\n",
       "</div>"
      ],
      "text/plain": [
       "      mean radius                                                             \\\n",
       "            count       mean       std     min     25%     50%    75%    max   \n",
       "class                                                                          \n",
       "0           212.0  17.462830  3.203971  10.950  15.075  17.325  19.59  28.11   \n",
       "1           357.0  12.146524  1.780512   6.981  11.080  12.200  13.37  17.85   \n",
       "\n",
       "      mean texture             ... worst symmetry          \\\n",
       "             count       mean  ...            75%     max   \n",
       "class                          ...                          \n",
       "0            212.0  21.604906  ...       0.359225  0.6638   \n",
       "1            357.0  17.914762  ...       0.298300  0.4228   \n",
       "\n",
       "      worst fractal dimension                                                  \\\n",
       "                        count      mean       std      min       25%      50%   \n",
       "class                                                                           \n",
       "0                       212.0  0.091530  0.021553  0.05504  0.076302  0.08760   \n",
       "1                       357.0  0.079442  0.013804  0.05521  0.070090  0.07712   \n",
       "\n",
       "                         \n",
       "            75%     max  \n",
       "class                    \n",
       "0      0.102625  0.2075  \n",
       "1      0.085410  0.1486  \n",
       "\n",
       "[2 rows x 240 columns]"
      ]
     },
     "execution_count": 5,
     "metadata": {},
     "output_type": "execute_result"
    }
   ],
   "source": [
    "data.groupby('class').describe()"
   ]
  },
  {
   "cell_type": "markdown",
   "metadata": {},
   "source": [
    "# 2. Train Test Split:"
   ]
  },
  {
   "cell_type": "code",
   "execution_count": 6,
   "metadata": {},
   "outputs": [],
   "source": [
    "from sklearn.model_selection import train_test_split"
   ]
  },
  {
   "cell_type": "code",
   "execution_count": 7,
   "metadata": {},
   "outputs": [],
   "source": [
    "X = data.drop('class',axis = 1)\n",
    "Y = data['class']"
   ]
  },
  {
   "cell_type": "code",
   "execution_count": 8,
   "metadata": {},
   "outputs": [],
   "source": [
    "X_train,X_test,Y_train,Y_test = train_test_split(X,Y,stratify = Y,random_state = 1,test_size = 0.1)"
   ]
  },
  {
   "cell_type": "markdown",
   "metadata": {},
   "source": [
    "Explaining each parameters:\n",
    "- stratify -> it will split the data in such way that both train and test data will have similar number of features. eg. here both test and train datasets will have almost equal number of records with benign and maligment cancers.\n",
    "- random_state -> it is the seed value provided to function. If you that function gives same data every time then manually set seed value\n",
    "- test_size -> It is the ratio of test data size and total data size"
   ]
  },
  {
   "cell_type": "code",
   "execution_count": 9,
   "metadata": {},
   "outputs": [
    {
     "name": "stdout",
     "output_type": "stream",
     "text": [
      "(512, 30) (57, 30)\n"
     ]
    }
   ],
   "source": [
    "print(X_train.shape, X_test.shape)"
   ]
  },
  {
   "cell_type": "markdown",
   "metadata": {},
   "source": [
    "See 90% records is in train and rest is in test."
   ]
  },
  {
   "cell_type": "code",
   "execution_count": 10,
   "metadata": {},
   "outputs": [
    {
     "name": "stdout",
     "output_type": "stream",
     "text": [
      "0.626953125\n",
      "0.631578947368421\n"
     ]
    }
   ],
   "source": [
    "print(Y_train.mean())\n",
    "print(Y_test.mean())"
   ]
  },
  {
   "cell_type": "markdown",
   "metadata": {},
   "source": [
    "See there is an almost similar distribution in train and test dataset"
   ]
  },
  {
   "cell_type": "markdown",
   "metadata": {},
   "source": [
    "## 3. Binarisation of data:\n",
    "\n",
    "since MP neuron only takes binary inputs. So we need to binarise the data.\n",
    "\n",
    "Here is how the data is spreaded."
   ]
  },
  {
   "cell_type": "code",
   "execution_count": 11,
   "metadata": {},
   "outputs": [
    {
     "data": {
      "image/png": "[encoded data removed]",
      "text/plain": [
       "<Figure size 432x288 with 1 Axes>"
      ]
     },
     "metadata": {
      "needs_background": "light"
     },
     "output_type": "display_data"
    }
   ],
   "source": [
    "plt.plot(X_train.T,'*')\n",
    "plt.xticks(rotation = 'vertical', fontsize = 'large')\n",
    "plt.show()"
   ]
  },
  {
   "cell_type": "code",
   "execution_count": 12,
   "metadata": {},
   "outputs": [],
   "source": [
    "X_binarised_train = X_train.apply(pd.cut,bins = 2, labels = [0,1])"
   ]
  },
  {
   "cell_type": "markdown",
   "metadata": {},
   "source": [
    "Using pandas.cut to divide data in two halves with labels 0 and 1.\n",
    "\n",
    "Now plot this data"
   ]
  },
  {
   "cell_type": "code",
   "execution_count": 13,
   "metadata": {},
   "outputs": [
    {
     "data": {
      "image/png": "[encoded data removed]",
      "text/plain": [
       "<Figure size 432x288 with 1 Axes>"
      ]
     },
     "metadata": {
      "needs_background": "light"
     },
     "output_type": "display_data"
    }
   ],
   "source": [
    "plt.plot(X_binarised_train.T,'*')\n",
    "plt.xticks(rotation = 'vertical', fontsize = 'large')\n",
    "plt.show()"
   ]
  },
  {
   "cell_type": "markdown",
   "metadata": {},
   "source": [
    "Similarly do for X_test"
   ]
  },
  {
   "cell_type": "code",
   "execution_count": 14,
   "metadata": {},
   "outputs": [],
   "source": [
    "X_binarised_test = X_test.apply(pd.cut,bins = 2, labels = [0,1])\n",
    "# convert to np array \n",
    "X_binarised_test = X_binarised_test.values\n",
    "X_binarised_train = X_binarised_train.values"
   ]
  },
  {
   "cell_type": "code",
   "execution_count": 15,
   "metadata": {},
   "outputs": [
    {
     "data": {
      "image/png": "[encoded data removed]",
      "text/plain": [
       "<Figure size 432x288 with 1 Axes>"
      ]
     },
     "metadata": {
      "needs_background": "light"
     },
     "output_type": "display_data"
    }
   ],
   "source": [
    "plt.plot(X_binarised_test.T,\"*\")\n",
    "plt.xticks(rotation = 'vertical',fontsize = 'large')\n",
    "plt.show()"
   ]
  },
  {
   "cell_type": "markdown",
   "metadata": {},
   "source": [
    "## 3. Learning parameters"
   ]
  },
  {
   "cell_type": "markdown",
   "metadata": {},
   "source": [
    "MP neuron model have only one parameter. So brute force search can be used to find that parameter.\n",
    "So we will try different values of b ($w_0$) and stop when we find the value which minimize the loss function.\n",
    "- $\\sum{x_i} \\geq b $ then y = 1,otherwise y = 0.\n",
    "- So the maximum value of this sum can be ( in this problem ) 30. Since there 30 parameters.\n",
    "- So we will iterate through all the values in the range of 0 to 30, And calculate the loss function. The value of b which will give the min value of loss function will be set."
   ]
  },
  {
   "cell_type": "code",
   "execution_count": 16,
   "metadata": {},
   "outputs": [
    {
     "name": "stdout",
     "output_type": "stream",
     "text": [
      "0 321 0.626953125\n",
      "1 123 0.240234375\n",
      "2 95 0.185546875\n",
      "3 77 0.150390625\n",
      "4 79 0.154296875\n",
      "5 93 0.181640625\n",
      "6 110 0.21484375\n",
      "7 125 0.244140625\n",
      "8 141 0.275390625\n",
      "9 153 0.298828125\n",
      "10 160 0.3125\n",
      "11 168 0.328125\n",
      "12 172 0.3359375\n",
      "13 176 0.34375\n",
      "14 180 0.3515625\n",
      "15 183 0.357421875\n",
      "16 188 0.3671875\n",
      "17 189 0.369140625\n",
      "18 191 0.373046875\n",
      "19 191 0.373046875\n",
      "20 191 0.373046875\n",
      "21 191 0.373046875\n",
      "22 191 0.373046875\n",
      "23 191 0.373046875\n",
      "24 191 0.373046875\n",
      "25 191 0.373046875\n",
      "26 191 0.373046875\n",
      "27 191 0.373046875\n",
      "28 191 0.373046875\n",
      "29 191 0.373046875\n",
      "30 191 0.373046875\n"
     ]
    }
   ],
   "source": [
    "b = 0\n",
    "accurate_rows = 0\n",
    "y_pred_train = []\n",
    "\n",
    "for b in range(X_binarised_train.shape[1] + 1):\n",
    "    for x,y in zip(X_binarised_train,Y_train):\n",
    "        y_pred = (np.sum(x) >= b)\n",
    "        accurate_rows += (y == y_pred)\n",
    "        y_pred_train.append(y_pred)\n",
    "    print(b, accurate_rows, accurate_rows / X_binarised_train.shape[0])\n",
    "    accurate_rows = 0"
   ]
  },
  {
   "cell_type": "markdown",
   "metadata": {},
   "source": [
    "Here we can see that maximum accuracy we are getting is 62%, which is happened when we prediced all the output as 1 but our model should atleast give more accuracy than this. Reason for such accuracy is misclassification of inputs during binarisation. "
   ]
  },
  {
   "cell_type": "code",
   "execution_count": 17,
   "metadata": {},
   "outputs": [
    {
     "data": {
      "text/html": [
       "<div>\n",
       "<style scoped>\n",
       "    .dataframe tbody tr th:only-of-type {\n",
       "        vertical-align: middle;\n",
       "    }\n",
       "\n",
       "    .dataframe tbody tr th {\n",
       "        vertical-align: top;\n",
       "    }\n",
       "\n",
       "    .dataframe thead th {\n",
       "        text-align: right;\n",
       "    }\n",
       "</style>\n",
       "<table border=\"1\" class=\"dataframe\">\n",
       "  <thead>\n",
       "    <tr style=\"text-align: right;\">\n",
       "      <th></th>\n",
       "      <th>mean radius</th>\n",
       "      <th>mean texture</th>\n",
       "      <th>mean perimeter</th>\n",
       "      <th>mean area</th>\n",
       "      <th>mean smoothness</th>\n",
       "      <th>mean compactness</th>\n",
       "      <th>mean concavity</th>\n",
       "      <th>mean concave points</th>\n",
       "      <th>mean symmetry</th>\n",
       "      <th>mean fractal dimension</th>\n",
       "      <th>...</th>\n",
       "      <th>worst radius</th>\n",
       "      <th>worst texture</th>\n",
       "      <th>worst perimeter</th>\n",
       "      <th>worst area</th>\n",
       "      <th>worst smoothness</th>\n",
       "      <th>worst compactness</th>\n",
       "      <th>worst concavity</th>\n",
       "      <th>worst concave points</th>\n",
       "      <th>worst symmetry</th>\n",
       "      <th>worst fractal dimension</th>\n",
       "    </tr>\n",
       "    <tr>\n",
       "      <th>class</th>\n",
       "      <th></th>\n",
       "      <th></th>\n",
       "      <th></th>\n",
       "      <th></th>\n",
       "      <th></th>\n",
       "      <th></th>\n",
       "      <th></th>\n",
       "      <th></th>\n",
       "      <th></th>\n",
       "      <th></th>\n",
       "      <th></th>\n",
       "      <th></th>\n",
       "      <th></th>\n",
       "      <th></th>\n",
       "      <th></th>\n",
       "      <th></th>\n",
       "      <th></th>\n",
       "      <th></th>\n",
       "      <th></th>\n",
       "      <th></th>\n",
       "      <th></th>\n",
       "    </tr>\n",
       "  </thead>\n",
       "  <tbody>\n",
       "    <tr>\n",
       "      <td>0</td>\n",
       "      <td>17.462830</td>\n",
       "      <td>21.604906</td>\n",
       "      <td>115.365377</td>\n",
       "      <td>978.376415</td>\n",
       "      <td>0.102898</td>\n",
       "      <td>0.145188</td>\n",
       "      <td>0.160775</td>\n",
       "      <td>0.087990</td>\n",
       "      <td>0.192909</td>\n",
       "      <td>0.062680</td>\n",
       "      <td>...</td>\n",
       "      <td>21.134811</td>\n",
       "      <td>29.318208</td>\n",
       "      <td>141.370330</td>\n",
       "      <td>1422.286321</td>\n",
       "      <td>0.144845</td>\n",
       "      <td>0.374824</td>\n",
       "      <td>0.450606</td>\n",
       "      <td>0.182237</td>\n",
       "      <td>0.323468</td>\n",
       "      <td>0.091530</td>\n",
       "    </tr>\n",
       "    <tr>\n",
       "      <td>1</td>\n",
       "      <td>12.146524</td>\n",
       "      <td>17.914762</td>\n",
       "      <td>78.075406</td>\n",
       "      <td>462.790196</td>\n",
       "      <td>0.092478</td>\n",
       "      <td>0.080085</td>\n",
       "      <td>0.046058</td>\n",
       "      <td>0.025717</td>\n",
       "      <td>0.174186</td>\n",
       "      <td>0.062867</td>\n",
       "      <td>...</td>\n",
       "      <td>13.379801</td>\n",
       "      <td>23.515070</td>\n",
       "      <td>87.005938</td>\n",
       "      <td>558.899440</td>\n",
       "      <td>0.124959</td>\n",
       "      <td>0.182673</td>\n",
       "      <td>0.166238</td>\n",
       "      <td>0.074444</td>\n",
       "      <td>0.270246</td>\n",
       "      <td>0.079442</td>\n",
       "    </tr>\n",
       "  </tbody>\n",
       "</table>\n",
       "<p>2 rows × 30 columns</p>\n",
       "</div>"
      ],
      "text/plain": [
       "       mean radius  mean texture  mean perimeter   mean area  mean smoothness  \\\n",
       "class                                                                           \n",
       "0        17.462830     21.604906      115.365377  978.376415         0.102898   \n",
       "1        12.146524     17.914762       78.075406  462.790196         0.092478   \n",
       "\n",
       "       mean compactness  mean concavity  mean concave points  mean symmetry  \\\n",
       "class                                                                         \n",
       "0              0.145188        0.160775             0.087990       0.192909   \n",
       "1              0.080085        0.046058             0.025717       0.174186   \n",
       "\n",
       "       mean fractal dimension  ...  worst radius  worst texture  \\\n",
       "class                          ...                                \n",
       "0                    0.062680  ...     21.134811      29.318208   \n",
       "1                    0.062867  ...     13.379801      23.515070   \n",
       "\n",
       "       worst perimeter   worst area  worst smoothness  worst compactness  \\\n",
       "class                                                                      \n",
       "0           141.370330  1422.286321          0.144845           0.374824   \n",
       "1            87.005938   558.899440          0.124959           0.182673   \n",
       "\n",
       "       worst concavity  worst concave points  worst symmetry  \\\n",
       "class                                                          \n",
       "0             0.450606              0.182237        0.323468   \n",
       "1             0.166238              0.074444        0.270246   \n",
       "\n",
       "       worst fractal dimension  \n",
       "class                           \n",
       "0                     0.091530  \n",
       "1                     0.079442  \n",
       "\n",
       "[2 rows x 30 columns]"
      ]
     },
     "execution_count": 17,
     "metadata": {},
     "output_type": "execute_result"
    }
   ],
   "source": [
    "data.groupby('class').mean()"
   ]
  },
  {
   "cell_type": "markdown",
   "metadata": {},
   "source": [
    "Observe the table given above.\n",
    "- We can see that mean value of all the parameters for the input labeled 0 have higher value than the corresponding mean values of the parameter for the input labeled 1.\n",
    "- But during binarisation we labeled inputs with higher value as 1 and labeled others with 1.\n",
    "- Now trying again after interchanging this label."
   ]
  },
  {
   "cell_type": "markdown",
   "metadata": {},
   "source": [
    "## 4. Binarisation of data and learning parameters ( Again! )"
   ]
  },
  {
   "cell_type": "code",
   "execution_count": 18,
   "metadata": {},
   "outputs": [],
   "source": [
    "X_binarised_train = X_train.apply(pd.cut,bins = 2, labels = [1,0])\n",
    "X_binarised_test = X_test.apply(pd.cut,bins = 2 , labels = [1,0])\n",
    "# Convert dataframes to np arrays\n",
    "X_binarised_train = X_binarised_train.values\n",
    "X_binarised_test = X_binarised_test.values"
   ]
  },
  {
   "cell_type": "code",
   "execution_count": 19,
   "metadata": {},
   "outputs": [
    {
     "name": "stdout",
     "output_type": "stream",
     "text": [
      "0 321 0.626953125\n",
      "1 321 0.626953125\n",
      "2 321 0.626953125\n",
      "3 321 0.626953125\n",
      "4 321 0.626953125\n",
      "5 321 0.626953125\n",
      "6 321 0.626953125\n",
      "7 321 0.626953125\n",
      "8 321 0.626953125\n",
      "9 321 0.626953125\n",
      "10 321 0.626953125\n",
      "11 321 0.626953125\n",
      "12 321 0.626953125\n",
      "13 321 0.626953125\n",
      "14 323 0.630859375\n",
      "15 324 0.6328125\n",
      "16 329 0.642578125\n",
      "17 332 0.6484375\n",
      "18 336 0.65625\n",
      "19 340 0.6640625\n",
      "20 344 0.671875\n",
      "21 352 0.6875\n",
      "22 359 0.701171875\n",
      "23 371 0.724609375\n",
      "24 387 0.755859375\n",
      "25 402 0.78515625\n",
      "26 419 0.818359375\n",
      "27 433 0.845703125\n",
      "28 435 0.849609375\n",
      "29 417 0.814453125\n",
      "30 389 0.759765625\n"
     ]
    }
   ],
   "source": [
    "b = 0 \n",
    "y_pred_train = []\n",
    "accurate_row = 0\n",
    "for b in range(X_binarised_train.shape[1] + 1):\n",
    "    for x,y in zip(X_binarised_train,Y_train):\n",
    "        y_pred = (np.sum(x) >= b)\n",
    "        accurate_rows += (y_pred == y)\n",
    "        y_pred_train.append(y_pred)\n",
    "    print(b,accurate_rows, accurate_rows / X_binarised_train.shape[0])\n",
    "    accurate_rows = 0"
   ]
  },
  {
   "cell_type": "markdown",
   "metadata": {},
   "source": [
    "As we can see the maximum accuracy has increased to 85%. It is achieved when b = 28."
   ]
  },
  {
   "cell_type": "markdown",
   "metadata": {},
   "source": [
    "## 5. Evaluation on test data:"
   ]
  },
  {
   "cell_type": "code",
   "execution_count": 20,
   "metadata": {},
   "outputs": [],
   "source": [
    "from sklearn.metrics import accuracy_score"
   ]
  },
  {
   "cell_type": "code",
   "execution_count": 21,
   "metadata": {},
   "outputs": [
    {
     "name": "stdout",
     "output_type": "stream",
     "text": [
      "0.7894736842105263\n"
     ]
    }
   ],
   "source": [
    "b = 28\n",
    "\n",
    "y_pred_test = []\n",
    "\n",
    "for x in X_binarised_test:\n",
    "    y_pred = (np.sum(x) >= b)\n",
    "    y_pred_test.append(y_pred)\n",
    "\n",
    "accuracy = accuracy_score(y_pred_test,Y_test)\n",
    "print(accuracy)"
   ]
  },
  {
   "cell_type": "markdown",
   "metadata": {},
   "source": [
    "## Extra: MP Neuron class:\n",
    "lets make class for MP neuron."
   ]
  },
  {
   "cell_type": "code",
   "execution_count": 22,
   "metadata": {},
   "outputs": [],
   "source": [
    "class MPNeuron:\n",
    "    \n",
    "    def __init__(self):\n",
    "        self.b = None\n",
    "    \n",
    "    def model(self,x):\n",
    "        return (sum(x) >= self.b)\n",
    "    \n",
    "    def predict(self,X):\n",
    "        y = []\n",
    "        for x in X:\n",
    "            result = self.model(x)\n",
    "            y.append(result)\n",
    "        return np.array(y)\n",
    "    \n",
    "    def fit(self,X,Y):\n",
    "        accuracy = {}\n",
    "        \n",
    "        for b in range(0, X.shape[1] + 1):\n",
    "            self.b = b\n",
    "            Y_pred = self.predict(X)\n",
    "            accuracy[b] = accuracy_score(Y_pred,Y)\n",
    "            \n",
    "        best_b = max(accuracy,key = accuracy.get)\n",
    "        self.b = best_b\n",
    "        \n",
    "        print('Optimal value of b :',best_b)\n",
    "        print('Highest accuracy :',accuracy[best_b])\n",
    "            "
   ]
  },
  {
   "cell_type": "code",
   "execution_count": 23,
   "metadata": {},
   "outputs": [
    {
     "name": "stdout",
     "output_type": "stream",
     "text": [
      "Optimal value of b : 28\n",
      "Highest accuracy : 0.849609375\n"
     ]
    }
   ],
   "source": [
    "mpn = MPNeuron()\n",
    "mpn.fit(X_binarised_train,Y_train)"
   ]
  },
  {
   "cell_type": "code",
   "execution_count": 24,
   "metadata": {},
   "outputs": [
    {
     "name": "stdout",
     "output_type": "stream",
     "text": [
      "0.7894736842105263\n"
     ]
    }
   ],
   "source": [
    "y_test_pred = mpn.predict(X_binarised_test)\n",
    "accuarcy = accuracy_score(y_test_pred,Y_test)\n",
    "print(accuracy)"
   ]
  }
 ],
 "metadata": {
  "kernelspec": {
   "display_name": "Python 3",
   "language": "python",
   "name": "python3"
  },
  "language_info": {
   "codemirror_mode": {
    "name": "ipython",
    "version": 3
   },
   "file_extension": ".py",
   "mimetype": "text/x-python",
   "name": "python",
   "nbconvert_exporter": "python",
   "pygments_lexer": "ipython3",
   "version": "3.7.4"
  }
 },
 "nbformat": 4,
 "nbformat_minor": 2
}
